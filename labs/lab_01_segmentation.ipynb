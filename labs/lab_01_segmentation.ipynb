{
 "cells": [
  {
   "cell_type": "markdown",
   "metadata": {},
   "source": [
    "# [IAPR][iapr]: Lab 1 ‒  Image segmentation\n",
    "\n",
    "\n",
    "**Group ID:** 02\n",
    "\n",
    "**Author 1 (sciper):** Basile Spaenlehauer (272570)\n",
    "\n",
    "**Author 2 (sciper):** Victor Herrmann (284552)\n",
    "\n",
    "**Author 3 (sciper):** Abed Alrahman Shabaan (237731)\n",
    "\n",
    "**Release date:** 12.03.2021  \n",
    "**Due date:** 26.03.2021 \n",
    "\n",
    "\n",
    "## Important notes\n",
    "\n",
    "The lab assignments are designed to teach practical implementation of the topics presented during class well as preparation for the final project, which is a practical project which ties together the topics of the course. \n",
    "\n",
    "As such, in the lab assignments/final project, unless otherwise specified, you may, if you choose, use external functions from image processing/ML libraries like opencv and sklearn as long as there is sufficient explanation in the lab report. For example, you do not need to implement your own edge detector, etc.\n",
    "\n",
    "**! Before handling back the notebook !** rerun the notebook from scratch `Kernel` > `Restart & Run All`\n",
    "\n",
    "\n",
    "[iapr]: https://github.com/LTS5/iapr"
   ]
  },
  {
   "cell_type": "markdown",
   "metadata": {},
   "source": [
    "---\n",
    "## 0. Extract relevant data\n",
    "We first need to extract the `lab-01-data.tar.gz` archive.\n",
    "To this end, we use the [tarfile] module from the Python standard library.\n",
    "\n",
    "[tarfile]: https://docs.python.org/3.6/library/tarfile.html"
   ]
  },
  {
   "cell_type": "code",
   "execution_count": null,
   "metadata": {},
   "outputs": [],
   "source": [
    "import tarfile\n",
    "import os\n",
    "\n",
    "data_base_path = os.path.join(os.pardir, 'data')\n",
    "data_folder = 'lab-01-data'\n",
    "tar_path = os.path.join(data_base_path, data_folder + '.tar.gz')\n",
    "\n",
    "if not os.path.exists(tar_path):\n",
    "    raise Exception('Path to is not valid {}'.format(tar_path))\n",
    "    \n",
    "with tarfile.open(tar_path, mode='r:gz') as tar:\n",
    "    tar.extractall(path=data_base_path)"
   ]
  },
  {
   "cell_type": "markdown",
   "metadata": {},
   "source": [
    "---\n",
    "## Part 1: Brain segmentation\n",
    "\n",
    "Your goal: compute the size of the brain (without the skull) in pixels in a 2D image of a human head taken by Magnetic Resonance Imaging (MRI) using:\n",
    "* Region growing (5 pts)\n",
    "* Contour detection (5 pts)\n",
    "* Additional method of your choice (5 pts)\n",
    "\n",
    "Each section should display the resulting segmenttion as well as the size in pixel of the detected region. Comment each method limitations and/or advantages."
   ]
  },
  {
   "cell_type": "markdown",
   "metadata": {},
   "source": [
    "### 1.1 Brain image visualization"
   ]
  },
  {
   "cell_type": "code",
   "execution_count": null,
   "metadata": {},
   "outputs": [],
   "source": [
    "# imports\n",
    "import skimage.io\n",
    "import matplotlib.pyplot as plt\n",
    "%matplotlib inline\n",
    "import numpy as np\n",
    "import sys\n",
    "import threading\n",
    "from skimage.feature import canny\n",
    "from skimage.morphology import binary_closing\n",
    "from skimage.filters import median\n",
    "\n",
    "# increase limit for recursive function\n",
    "sys.setrecursionlimit(256*256)\n",
    "threading.stack_size(1024*1024*128) #128 MB\n"
   ]
  },
  {
   "cell_type": "code",
   "execution_count": null,
   "metadata": {},
   "outputs": [],
   "source": [
    "# Load image\n",
    "data_path = os.path.join(data_base_path, data_folder)\n",
    "brain_im = skimage.io.imread(os.path.join(data_path, 'brain-slice40.tiff'))\n",
    "im_h, im_w = brain_im.shape\n",
    "\n",
    "# initialize the seed for growing\n",
    "init_pix = (130, 100)\n",
    "\n",
    "# Display MRI image\n",
    "fig, ax = plt.subplots(1, 1, figsize=(6, 6))\n",
    "ax.imshow(brain_im, cmap='gray')\n",
    "ax.set_title('MRI brain image ({} px, {} px)'.format(im_h, im_w))\n",
    "# ax.axis('off')\n",
    "plt.scatter(init_pix[1], init_pix[0], color='r', marker='.')\n",
    "plt.show()"
   ]
  },
  {
   "cell_type": "markdown",
   "metadata": {
    "pycharm": {
     "name": "#%% md\n"
    }
   },
   "source": [
    "Note that we drew a single red pixel on top of the image. That pixel will be used to seed the region growing algorithm."
   ]
  },
  {
   "cell_type": "markdown",
   "metadata": {},
   "source": [
    "### 1.2 Region growing (5pts)"
   ]
  },
  {
   "cell_type": "code",
   "execution_count": null,
   "metadata": {},
   "outputs": [],
   "source": [
    "# plot the histogram to get a feel for the image\n",
    "plt.hist(brain_im.flatten(), bins=256)\n",
    "plt.show()"
   ]
  },
  {
   "cell_type": "markdown",
   "metadata": {
    "pycharm": {
     "name": "#%% md\n"
    }
   },
   "source": [
    "The histogram of our image seems to be dominated by zeros, that's the background. The hill around 80 is the brain. The brighter skull is the tail that's above 100 approximately."
   ]
  },
  {
   "cell_type": "code",
   "execution_count": null,
   "metadata": {},
   "outputs": [],
   "source": [
    "# initialize a global vaiable for the region growing algo\n",
    "img_mask = None\n",
    "\n",
    "def init_im_mask(shape):\n",
    "    global img_mask\n",
    "    img_mask = -1*np.ones(shape)\n",
    "    \n",
    "\n",
    "# init_im_mask(brain_im.shape)\n",
    "\n",
    "# # plot\n",
    "# plt.imshow(img_mask, vmin=-1, vmax=1)\n",
    "# plt.title(\"Initialized mask for region growing\")\n",
    "# plt.colorbar()\n",
    "# plt.show()"
   ]
  },
  {
   "cell_type": "code",
   "execution_count": null,
   "metadata": {},
   "outputs": [],
   "source": [
    "# region growing algorithm\n",
    "def region_growing(img, curr_pix, criterion, neighbourhood_4=False):\n",
    "    \"\"\" Perform region growing recursively from prosition curr_pix in img\n",
    "    criterion: a boolean function that compares 2 pixels and return True if they are considered similar\n",
    "    neighbourhood_4: only search the pixel on a cross patern (no diagonals)\n",
    "    \"\"\"\n",
    "    global img_mask\n",
    "    for i in range(-1,2):\n",
    "        for j in range(-1,2):\n",
    "            # don't search the curr_pix and don't go outside te image boudary\n",
    "            if (i!=0 or j!=0) and 0 <= curr_pix[0] + i < img.shape[0] and 0 < curr_pix[1] + j < img.shape[1]:\n",
    "                if neighbourhood_4 and i and j: # Avoid diagonals if considering 4-neighbourhoods\n",
    "                    continue\n",
    "                # pixel was not searched\n",
    "                if img_mask[curr_pix[0]+i, curr_pix[1]+j] == -1:\n",
    "                    if criterion(img[curr_pix], img[curr_pix[0]+i, curr_pix[1]+j]):\n",
    "                        img_mask[curr_pix[0]+i, curr_pix[1]+j] = 1\n",
    "                        region_growing(img, (curr_pix[0]+i, curr_pix[1]+j), criterion)\n",
    "                    else:\n",
    "                        img_mask[curr_pix[0]+i, curr_pix[1]+j] = 0\n",
    "                        "
   ]
  },
  {
   "cell_type": "code",
   "execution_count": null,
   "metadata": {},
   "outputs": [],
   "source": [
    "# init mask for region growing\n",
    "init_im_mask(brain_im.shape)\n",
    "\n",
    "thread = threading.Thread(target=region_growing, args=(brain_im, init_pix, lambda x,y: np.abs(int(x) - int(y)) < 8))\n",
    "thread.start()\n",
    "thread.join()\n",
    "\n",
    "# plot\n",
    "plt.figure(figsize=(10, 10))\n",
    "plt.imshow(brain_im, cmap='gray')\n",
    "plt.imshow(img_mask, alpha=0.5)\n",
    "plt.axis('off')\n",
    "plt.show()"
   ]
  },
  {
   "cell_type": "markdown",
   "metadata": {
    "pycharm": {
     "name": "#%% md\n"
    }
   },
   "source": [
    "Let's print the number of the mask's pixels. This is our estimation of the brain's size in pixels"
   ]
  },
  {
   "cell_type": "code",
   "execution_count": null,
   "metadata": {
    "collapsed": false,
    "jupyter": {
     "outputs_hidden": false
    },
    "pycharm": {
     "name": "#%%\n"
    }
   },
   "outputs": [],
   "source": [
    "pixels_region = (img_mask >= 0).sum()\n",
    "print(f'The brain has {pixels_region} pixels')"
   ]
  },
  {
   "cell_type": "markdown",
   "metadata": {
    "pycharm": {
     "name": "#%% md\n"
    }
   },
   "source": [
    "#### Discussion:\n",
    "The region growing method on the non-thresholded image gave us a reasonable estimate, although we can see that some non-brain regions that are similar to the brain are included in the mask.\n",
    "\n",
    "Note that we counted all the pixels considered to be at the limit of the brain shape to be of the brain as well. So all the blue pixels in the mask above. This decision was motivated by the large number of such pixels inside the brain."
   ]
  },
  {
   "cell_type": "markdown",
   "metadata": {},
   "source": [
    "### 1.3 Contour detection (5pts)\n"
   ]
  },
  {
   "cell_type": "code",
   "execution_count": null,
   "metadata": {},
   "outputs": [],
   "source": [
    "# define sigma for canny\n",
    "canny_sigma = 2\n",
    "\n",
    "# perform edge detection with canny\n",
    "edges = canny(brain_im, sigma=canny_sigma)\n",
    "# perform closing\n",
    "closed_edges = binary_closing(edges, selem=skimage.morphology.disk(5))\n",
    "\n",
    "# plot\n",
    "plt.figure(figsize=(10, 10))\n",
    "\n",
    "plt.subplot(1, 2, 1)\n",
    "plt.title(f'Canny ($\\sigma$ = {canny_sigma})')\n",
    "plt.imshow(edges, cmap='gray')\n",
    "plt.scatter(x=init_pix[1], y=init_pix[0], c='r', marker='.')\n",
    "plt.axis('off')\n",
    "\n",
    "plt.subplot(1, 2, 2)\n",
    "plt.title('Canny and closing')\n",
    "plt.imshow(closed_edges, cmap='gray')\n",
    "plt.axis('off')\n",
    "plt.show()"
   ]
  },
  {
   "cell_type": "markdown",
   "metadata": {
    "pycharm": {
     "name": "#%% md\n"
    }
   },
   "source": [
    "Note that we closed the detected edges to be able to do the next step, which is to use region growing inside the brain border to find the number of pixels inside the brain"
   ]
  },
  {
   "cell_type": "code",
   "execution_count": null,
   "metadata": {
    "collapsed": false,
    "jupyter": {
     "outputs_hidden": false
    },
    "pycharm": {
     "name": "#%%\n"
    }
   },
   "outputs": [],
   "source": [
    "# init mask for region growing\n",
    "init_im_mask(brain_im.shape)\n",
    "\n",
    "thread = threading.Thread(target=region_growing, args=(closed_edges, init_pix, lambda x,y: x == y, True))\n",
    "thread.start()\n",
    "thread.join()\n",
    "\n",
    "# plot\n",
    "plt.figure(figsize=(8, 8))\n",
    "plt.imshow(closed_edges, cmap='gray')\n",
    "plt.imshow(img_mask, alpha=0.5)\n",
    "plt.title('Brain detection with edge detection, closing and region growing')\n",
    "plt.axis('off')\n",
    "plt.show()"
   ]
  },
  {
   "cell_type": "code",
   "execution_count": null,
   "metadata": {
    "collapsed": false,
    "jupyter": {
     "outputs_hidden": false
    },
    "pycharm": {
     "name": "#%%\n"
    }
   },
   "outputs": [],
   "source": [
    "pixels_contour = (img_mask == 1).sum()\n",
    "print(f'Using the contour detection method, the brain has {pixels_contour} pixels')\n",
    "print(f'This is {pixels_region - pixels_contour} less than plain region growing')"
   ]
  },
  {
   "cell_type": "markdown",
   "metadata": {
    "pycharm": {
     "name": "#%% md\n"
    }
   },
   "source": [
    "#### Discussion:\n",
    "We note a couple of things:\n",
    "\n",
    "* Using the edge detector before doing region growing causes us to lose some regions where there are a lot of details (near the eyes) because edges are detected there.\n",
    "* We may have to do some morphological transformation after edge detection to close the contours and have a separate region in which we can count the pixels.\n",
    "* This method has more parameters to tune, but gives a more homogeneous result compared to plain region growing. At the price of losing some external regions because the contours were discontious and became completely external after closing.\n"
   ]
  },
  {
   "cell_type": "markdown",
   "metadata": {},
   "source": [
    "### 1.4 Additional method (5pts)\n",
    "Thersholding then region growing?"
   ]
  },
  {
   "cell_type": "code",
   "execution_count": null,
   "metadata": {
    "collapsed": false,
    "jupyter": {
     "outputs_hidden": false
    },
    "pycharm": {
     "name": "#%%\n"
    }
   },
   "outputs": [],
   "source": [
    "# median filtering with a rolling window of 5x5 pixels\n",
    "window_size = 5\n",
    "median_filtered = median(brain_im, selem=np.ones((window_size, window_size)))\n",
    "\n",
    "# plot\n",
    "plt.figure(figsize=(10, 10))\n",
    "\n",
    "plt.subplot(1, 2, 1)\n",
    "plt.imshow(brain_im, cmap='gray')\n",
    "plt.title('Original image')\n",
    "plt.axis('off')\n",
    "\n",
    "plt.subplot(1, 2, 2)\n",
    "plt.imshow(median_filtered, cmap='gray')\n",
    "plt.title(f'After median filtering (window size = {window_size})')\n",
    "plt.axis('off')\n",
    "plt.show()"
   ]
  },
  {
   "cell_type": "code",
   "execution_count": null,
   "metadata": {
    "collapsed": false,
    "jupyter": {
     "outputs_hidden": false
    },
    "pycharm": {
     "name": "#%%\n"
    }
   },
   "outputs": [],
   "source": [
    "init_im_mask(median_filtered.shape)\n",
    "\n",
    "thread = threading.Thread(target=region_growing, args=(median_filtered, init_pix, lambda x,y: np.abs(int(x)-int(y)) < 5))\n",
    "thread.start()\n",
    "thread.join()\n",
    "\n",
    "# plot\n",
    "plt.figure(figsize=(8, 8))\n",
    "plt.imshow(median_filtered, cmap='gray')\n",
    "plt.imshow(img_mask, alpha=0.5)\n",
    "plt.title('Region growing after median filter')\n",
    "plt.axis('off')\n",
    "plt.show()"
   ]
  },
  {
   "cell_type": "code",
   "execution_count": null,
   "metadata": {
    "collapsed": false,
    "jupyter": {
     "outputs_hidden": false
    },
    "pycharm": {
     "name": "#%%\n"
    }
   },
   "outputs": [],
   "source": [
    "pixels_median = (img_mask >= 0).sum()\n",
    "print(f'Using the contour detection method, the brain has {pixels_median} pixels')\n",
    "print(f'This is {pixels_median - pixels_contour} more than contour detection and {pixels_median - pixels_region} more than plain region growing')"
   ]
  },
  {
   "cell_type": "markdown",
   "metadata": {
    "pycharm": {
     "name": "#%% md\n"
    }
   },
   "source": [
    "#### Discussion:\n",
    "* We notice that the filtering with a median removed the small variations inside the brain and allowed us to have a more pleasing result while keeping a lower similarity threshold than plain region growing\n",
    "* We also notice that we exclude the regions in the center of the image which are not part of the brain, we weren't able to do this before using plain region growing because we had to keep a higher similarity threshold.\n",
    "* We have a more homogeneous result than in plain region growing, this is thanks to the filter eliminating smaller variations inside the brain region\n",
    "\n",
    "#### Conclusion\n",
    "For this application, this last method seems to be the most appropriate of all three."
   ]
  },
  {
   "cell_type": "markdown",
   "metadata": {},
   "source": [
    "---\n",
    "## Part 2: Shape/color segmentation\n",
    "\n",
    "You will find hereafter three pictures taken under three different illuminations, containing some shapes with different colors. We ask you to create a routine to:\n",
    "\n",
    "1. Count the number of shapes of each color (5pts).\n",
    "2. Compute the total area (in pixels) of each color (5pts).\n",
    "\n",
    "Please note that one specific challenge is to be robust to illumination changes. Therefore some kind of intensity normalization should probably be used."
   ]
  },
  {
   "cell_type": "markdown",
   "metadata": {},
   "source": [
    "### 2.1 Visualization"
   ]
  },
  {
   "cell_type": "code",
   "execution_count": null,
   "metadata": {},
   "outputs": [],
   "source": [
    "# Load images\n",
    "im_names = ['arena-shapes-01', 'arena-shapes-02', 'arena-shapes-03']\n",
    "filenames = [os.path.join(data_path, name) + '.png' for name in im_names]\n",
    "ic = skimage.io.imread_collection(filenames)\n",
    "images = skimage.io.concatenate_images(ic)\n",
    "print('Number of images: ', images.shape[0])\n",
    "print('Image size: {}, {} '.format(images.shape[1], images.shape[2]))\n",
    "print('Number of color channels: ', images.shape[-1])"
   ]
  },
  {
   "cell_type": "code",
   "execution_count": null,
   "metadata": {},
   "outputs": [],
   "source": [
    "# Plot images\n",
    "fig, axes = plt.subplots(1, 3, figsize=(12, 12))\n",
    "for ax, im, nm in zip(axes.ravel(), images, im_names):\n",
    "    ax.imshow(im)\n",
    "    ax.axis('off')\n",
    "    ax.set_title(nm)\n",
    "plt.show()"
   ]
  },
  {
   "cell_type": "code",
   "execution_count": null,
   "metadata": {
    "collapsed": false,
    "jupyter": {
     "outputs_hidden": false
    },
    "pycharm": {
     "name": "#%%\n"
    }
   },
   "outputs": [],
   "source": [
    "fig, axes = plt.subplots(1, 3, figsize=(12, 4))\n",
    "for ax, im, nm in zip(axes.ravel(), images, im_names):\n",
    "    ax.hist(im.mean(axis=2).flatten(), bins=256)\n",
    "    ax.set_title(f'Histogram of {nm}')\n",
    "plt.show()"
   ]
  },
  {
   "cell_type": "markdown",
   "metadata": {
    "pycharm": {
     "name": "#%% md\n"
    }
   },
   "source": [
    "We start by equalising the histogrammes to be robust to illumination changes"
   ]
  },
  {
   "cell_type": "code",
   "execution_count": null,
   "metadata": {
    "collapsed": false,
    "jupyter": {
     "outputs_hidden": false
    },
    "pycharm": {
     "name": "#%%\n"
    }
   },
   "outputs": [],
   "source": [
    "from skimage.exposure import equalize_hist\n",
    "from skimage.filters import gaussian\n",
    "\n",
    "equalized = np.empty(images.shape[0:3])\n",
    "plt.subplots(2, 3, figsize=(12, 6))\n",
    "for i,im in enumerate(images):\n",
    "    equalized[i,:,:] = equalize_hist(im.mean(axis=2))\n",
    "    plt.subplot(2, 3, i+1)\n",
    "    plt.imshow(equalized[i], cmap='gray')\n",
    "    plt.title(im_names[i])\n",
    "    plt.axis('off')\n",
    "    plt.subplot(2, 3, i+4)\n",
    "    plt.hist(equalized[i].flatten(), bins=256)\n",
    "\n",
    "plt.show()"
   ]
  },
  {
   "cell_type": "code",
   "execution_count": null,
   "metadata": {
    "collapsed": false,
    "jupyter": {
     "outputs_hidden": false
    },
    "pycharm": {
     "name": "#%%\n"
    }
   },
   "outputs": [],
   "source": [
    "# define the threshold for fg/bg\n",
    "thresh = 0.03\n",
    "\n",
    "# create a mask with the threshold\n",
    "masks = equalized <= thresh\n",
    "masks = masks.astype(np.int8)\n",
    "\n",
    "plt.subplots(1, 3, figsize=(12, 4))\n",
    "for i,im in enumerate(images):\n",
    "    plt.subplot(1, 3, i+1)\n",
    "    plt.imshow(np.logical_not(masks[i]))\n",
    "    plt.title(im_names[i])\n",
    "    plt.axis('off')\n",
    "plt.show()"
   ]
  },
  {
   "cell_type": "markdown",
   "metadata": {
    "pycharm": {
     "name": "#%% md\n"
    }
   },
   "source": [
    "Note that the histogram equalisation allowed us to use the same threshold for all 3 images."
   ]
  },
  {
   "cell_type": "markdown",
   "metadata": {},
   "source": [
    "### 2.2 Number of shapes of each color (5 pts)"
   ]
  },
  {
   "cell_type": "code",
   "execution_count": null,
   "metadata": {
    "collapsed": false,
    "jupyter": {
     "outputs_hidden": false
    },
    "pycharm": {
     "name": "#%%\n"
    }
   },
   "outputs": [],
   "source": [
    "# make a copy of the masks to be able to run the cell multiple times\n",
    "label_masks = masks.copy()\n",
    "\n",
    "plt.subplots(1, 3, figsize=(12, 4))\n",
    "for i, mask in enumerate(label_masks):\n",
    "    # init the label at 2 (0 is back, 1 is foreground)\n",
    "    current_element = 2\n",
    "    entry_points = []\n",
    "    for row in range(mask.shape[0]):\n",
    "        for col in range(mask.shape[1]):\n",
    "            # only if pixel is in the foreground\n",
    "            if mask[row, col] == 1:\n",
    "                entry_points.append((row, col))\n",
    "                init_im_mask(mask.shape)\n",
    "                # region growing\n",
    "                thread = threading.Thread(target=region_growing, args=(mask, (row, col), lambda x, y: x == y))\n",
    "                thread.start()\n",
    "                thread.join()\n",
    "                # label all the pixels identified by the region growing\n",
    "                mask[img_mask == 1] = current_element\n",
    "                current_element += 1\n",
    "\n",
    "    plt.subplot(1, 3, i+1)\n",
    "    plt.imshow(mask)\n",
    "    plt.scatter(x=[x[1] for x in entry_points], y=[x[0] for x in entry_points], c='r', marker='.')\n",
    "    plt.title(im_names[i])\n",
    "    plt.axis('off')\n",
    "\n",
    "plt.show()"
   ]
  },
  {
   "cell_type": "markdown",
   "metadata": {},
   "source": [
    "Note here the red points are the entry points for the region growing, so they are the first pixel that was used to label the object."
   ]
  },
  {
   "cell_type": "code",
   "execution_count": null,
   "metadata": {},
   "outputs": [],
   "source": [
    "from sklearn.cluster import KMeans\n",
    "\n",
    "# initialize arrays for clustering and area computing\n",
    "clusters = np.empty((3, 10))\n",
    "nb_pixels = np.empty((3, 10))\n",
    "nbr_colors = 2\n",
    "\n",
    "for i,img in enumerate(images):\n",
    "    colors = []\n",
    "    objects = np.unique(label_masks[i])[1:] # Number of all unique values except the background\n",
    "    for j, obj in enumerate(objects):\n",
    "        original_object = img[label_masks[i] == obj]\n",
    "        mean_color = original_object.mean(axis=0)\n",
    "        colors.append(mean_color)\n",
    "        nb_pixels[i, j] = original_object.shape[0]\n",
    "\n",
    "    # use kmeans to cluster the shapes of same color\n",
    "    kmeans = KMeans(n_clusters=nbr_colors, random_state=42).fit(np.array(colors))\n",
    "    clusters[i] = kmeans.predict(colors)\n",
    "    print(f'For image {im_names[i]} we have {(clusters[i] == 0).sum()} blue objects and {(clusters[i] == 1).sum()} grey ones')\n"
   ]
  },
  {
   "cell_type": "markdown",
   "metadata": {
    "pycharm": {
     "name": "#%% md\n"
    }
   },
   "source": [
    "As you see, we were able to retrieve the number of objects per colour using unsupervised learning to group the objects of the same mean color (Kmeans)."
   ]
  },
  {
   "cell_type": "markdown",
   "metadata": {},
   "source": [
    "### 2.3 Total area (in pixels) of each color (5 pts)"
   ]
  },
  {
   "cell_type": "code",
   "execution_count": null,
   "metadata": {},
   "outputs": [],
   "source": [
    "# Add your implementation and discussion\n",
    "for i,name in enumerate(im_names):\n",
    "    print(f'For image {name} we have {nb_pixels[i,clusters[i] == 0].sum():.0f} blue pixels and {nb_pixels[i,clusters[i] == 1].sum():.0f} grey pixels')"
   ]
  },
  {
   "cell_type": "markdown",
   "metadata": {
    "pycharm": {
     "name": "#%% md\n"
    }
   },
   "source": [
    "We see very consistent results, the slight variation is due to using the same threshold for segmentation after having equalised the histograms."
   ]
  }
 ],
 "metadata": {
  "kernelspec": {
   "display_name": "Python3 (iapr)",
   "language": "python",
   "name": "iapr"
  },
  "language_info": {
   "codemirror_mode": {
    "name": "ipython",
    "version": 3
   },
   "file_extension": ".py",
   "mimetype": "text/x-python",
   "name": "python",
   "nbconvert_exporter": "python",
   "pygments_lexer": "ipython3",
   "version": "3.9.2"
  }
 },
 "nbformat": 4,
 "nbformat_minor": 4
}
