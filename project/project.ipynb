{
 "cells": [
  {
   "cell_type": "markdown",
   "metadata": {},
   "source": [
    "# [IAPR][iapr]: Project\n",
    "\n",
    "\n",
    "**Group ID:** 02\n",
    "\n",
    "**Author 1 (sciper):** Basile Spaenlehauer (272570)  \n",
    "**Author 2 (sciper):** Victor Herrmann (284552)  \n",
    "**Author 3 (sciper):** Abed Alrahman Shabaan (237731)  \n",
    "\n",
    "**Release date:** 07.05.2021  \n",
    "**Due date:** 03.06.2021 (23h59) \n",
    "\n",
    "\n",
    "## Important notes\n",
    "\n",
    "The lab assignments are designed to teach practical implementation of the topics presented during class as well as preparation for the final project, which is a practical project which ties together the topics of the course. \n",
    "\n",
    "As such, in the lab assignments/final project, unless otherwise specified, you may, if you choose, use external functions from image processing/ML libraries like opencv and sklearn as long as there is sufficient explanation in the lab report. For example, you do not need to implement your own edge detector, etc.\n",
    "\n",
    "**! Before handling back the notebook !** rerun the notebook from scratch `Kernel` > `Restart & Run All`\n",
    "\n",
    "\n",
    "[iapr]: https://github.com/LTS5/iapr"
   ]
  },
  {
   "cell_type": "markdown",
   "metadata": {},
   "source": [
    "---\n",
    "## 0. Introduction\n",
    "\n",
    "An anonymous researcher that we will name Lann Yecun is convinced that the MNIST dataset still has great potential. He decides to create a playing card game based on MNIST digits and different figures. The game uses a standard 52 card deck which is composed of four French suits/colours: clubs (&#9827;), diamonds (&#9830;), hearts (&#9829;) and spades (&#9824;). Each suit includes 10 digit cards (from 0 to 9) and 3 figures (Jack-J, Queen-Q, and King-K). Here is an example of the 13 spade cards with their name.\n",
    "\n",
    "\n",
    "<img src=\"media/example_cards.png\">\n",
    "\n",
    "\n",
    "We can find the same arrangement of cards for the clubs, diamonds, and hearts. \n",
    "\n",
    "\n",
    "## 1. Rules\n",
    "\n",
    "\n",
    "### 1.1 Standard\n",
    "\n",
    "The rules are based on the simple battle card game. The goal of the game is to win as many points as possible. Each turn, the 4 players play a card in front of them. As displayed in the example below. The rules are the following:\n",
    "\n",
    "- The cards are ranked in the following order : **0 < 1 < 2 < 3 < 4 < 5 < 6 < 7 < 8 < 9 < J < Q < K**.\n",
    "- The player with the highest-ranked card wins the round and obtains **1 point**. \n",
    "- If the highest-ranked card is the same for multiple players we call it a draw and all winners get **1 points**. \n",
    "- In this configuration, we **do not** take into account the suits. The game only rely on the card ranks. \n",
    "- The game lasts 13 rounds. After the last round, the winner is the player that has the largest number of points. \n",
    "- In the example below Player 1 wins the round with his Queen ( 0 < 8 < J < **Q**).\n",
    "\n",
    "If two or more players have the same number of points they share the victory.\n",
    "\n",
    "### 1.2 Advanced\n",
    "\n",
    "The advanced rules take into account the suits. \n",
    "\n",
    "- At the beginning of **each round** a random player is designated as the **dealer**. The dealer places a green token with the letter *D* next to him (player 1 in the example below).\n",
    "- Only the cards that belong to the same suit as the one of the dealer are considered valid. In the example below, only Player 4 is competing with Player 1 as spade was selected by the dealer (e.i., Player 1). Player 2 and 3 are out for this round. Player 1 wins the round and **1 point** with the Queen ( 0&#9824; < **Q&#9824;**).\n",
    "- There cannot be any draw between the players as they are not any card duplicates.\n",
    "- We use the same system as the standard method to count the points.\n",
    "\n",
    "\n",
    "### 1.3 Notes\n",
    "\n",
    "- The orientation of the card is linked to the position of the player around the table. For instance, to read the card of the 3rd player you will have to rotate it by 180°.\n",
    "- The **digits** always **face** the players around the table. The figures can have random orientations.\n",
    "- Player 1 **always** seats south of the table. The players are **always** ordered counter-clockwise as in the example. \n",
    "- The dealers can change between the rounds and games.\n",
    "- Some cards might apear multiple times per game.\n",
    "\n",
    "<img src=\"media/example_round.jpg\">\n"
   ]
  },
  {
   "cell_type": "markdown",
   "metadata": {},
   "source": [
    "---\n",
    "## 2. Data\n",
    "\n",
    "You will be given the images of 7 games that were played ([download link](https://drive.google.com/file/d/1lsCMEwc00nsBMVrzo0NE1np79dMeShqZ/view?usp=sharing)). The data are composed of:\n",
    "   - 7 folder named after the games (game1 to game7).\n",
    "   - Each game includes 13 ordered images (1st to 13th round).\n",
    "   - Each game includes a csv file with the ground truth of the game. The first row list the players (P1 to P4) as well as the dealer (D). The following rows represent the rounds (1 to 13). We represent the card played with 2 character as $AB$ where $A \\in [0-9, J, Q, K]$ is the rank of the card and $B \\in [C, D, H, S]$ is the suit. For example, QS means \"(Q)ueen of (S)pade\". The dealer is represented by the ID of the player (e.g. P1 -> 1).\n",
    "   \n",
    "You are free to use external datasets such as the original MNIST train set that you used in lab 3."
   ]
  },
  {
   "cell_type": "markdown",
   "metadata": {},
   "source": [
    "---\n",
    "## 3. Your Tasks\n",
    "\n",
    "Your task is to ready yourself for the final evaluation. The day of the exam we will give you a new folder with a new game. ! The digits on the cards might sligthly **differ** from the one of the traning set. When given a new data folder with 13 images your should be able to:\n",
    "\n",
    "**Task 0**\n",
    "   - Plot an overlay for each \"round image\" that shows your detections and classification. You can for example plot bounding boxes around the cards/dealer token and add a text overlay with the name of the classes.\n",
    "\n",
    "**Task 1**\n",
    "   - (a) Predict the **rank** of the card played by each player at each round (Standard rules).\n",
    "   - (b) Predict the **number of points** of each player according to **Standard** rules\n",
    " \n",
    "**Task 2**\n",
    "   - (a) Detect which player is the selected **dealer** for each round.\n",
    "   - (b) Predict the **rank** and the **suit** of the card played by each player at each round (Advanced rules).\n",
    "   - (c) Predict the **number of points** of each player according to **Advanced** rules\n",
    "\n",
    "\n",
    "You will have to upload your code on moodle **the day before** the exam.\n",
    "\n",
    "We will ask you to run your pipeline in realtime and to send us your prediction of task 1 and 2 obtain with the function **print_results**. On our side we will compute the perfomance of your classification algorithm. To evaluate your method we will use the **evaluate_game** function presented below. To understant how the provided functions work please read the documentation of the functions in **utils.py**.\n",
    "\n",
    "**Please make sure your function returns the proper data format to avoid points penalty the day of the exam**. "
   ]
  },
  {
   "cell_type": "markdown",
   "metadata": {},
   "source": [
    "### 3.1 Example Final results\n",
    "\n",
    "Example of output you **should** provide the day of the final exam."
   ]
  },
  {
   "cell_type": "code",
   "execution_count": null,
   "metadata": {},
   "outputs": [],
   "source": [
    "from utils import print_results\n",
    "import numpy as np\n",
    "\n",
    "# Creates dummy predictions (toy exmaple)\n",
    "pred_rank = np.array([\"0D\"]*4*13).reshape((13, 4)) # Everyone played the \"0 of spade\".\n",
    "pred_dealer = [1]*13                # List of players selected as dealer for each round\n",
    "pred_pts_stand = [0,0,0,13]         # Player 4 won 13 points with standard rules.\n",
    "pred_pts_advan = [0,0,8,7]          # Player 3 and 4 won 8 and 7 points with adv, rules respectively.\n",
    "\n",
    "print_results(\n",
    "    rank_colour=pred_rank, \n",
    "    dealer=pred_dealer, \n",
    "    pts_standard=pred_pts_stand,\n",
    "    pts_advanced=pred_pts_advan,\n",
    ")"
   ]
  },
  {
   "cell_type": "markdown",
   "metadata": {},
   "source": [
    "### 3.2 Example Accuracy\n",
    "\n",
    "Example of code you can use to validate the performance of your model. Be careful the day of the exam you will not have access to the ground truth of the predictions."
   ]
  },
  {
   "cell_type": "code",
   "execution_count": null,
   "metadata": {},
   "outputs": [],
   "source": [
    "from utils import evaluate_game\n",
    "import pandas as pd\n",
    "#! You will need pandas libary to run the example. Please install the package using pip or conda commands !\n",
    "\n",
    "# Load ground truth from game 1\n",
    "cgt = pd.read_csv('train_games/game1/game1.csv', index_col=0)\n",
    "cgt_rank = cgt[['P1', 'P2', 'P3', 'P4']].values\n",
    "\n",
    "# Compute accuracy of prediction\n",
    "acc_standard = evaluate_game(pred_rank, cgt_rank, mode_advanced=False)\n",
    "acc_advanced = evaluate_game(pred_rank, cgt_rank, mode_advanced=True)\n",
    "print(\"Your model accuracy is: Standard={:.3f}, Advanced={:.3f}\".format(acc_standard, acc_advanced))"
   ]
  },
  {
   "cell_type": "markdown",
   "metadata": {},
   "source": [
    "## 4. Solution\n"
   ]
  },
  {
   "cell_type": "markdown",
   "metadata": {},
   "source": [
    "### Import libraries"
   ]
  },
  {
   "cell_type": "code",
   "execution_count": null,
   "metadata": {
    "pycharm": {
     "name": "#%%\n"
    }
   },
   "outputs": [],
   "source": [
    "%matplotlib inline\n",
    "\n",
    "import vision_tools\n",
    "import cnn\n",
    "\n",
    "import importlib\n",
    "\n",
    "import os\n",
    "\n",
    "import skimage.io\n",
    "\n",
    "from skimage.measure import label\n",
    "from scipy.ndimage import gaussian_laplace\n",
    "from scipy.signal import convolve2d\n",
    "from scipy.ndimage.morphology import binary_dilation\n",
    "from skimage.morphology import disk\n",
    "\n",
    "import matplotlib.pyplot as plt\n",
    "from matplotlib.patches import Rectangle\n",
    "import math\n",
    "import numpy as np\n",
    "\n"
   ]
  },
  {
   "cell_type": "markdown",
   "metadata": {},
   "source": [
    "### Import a test image"
   ]
  },
  {
   "cell_type": "code",
   "execution_count": null,
   "metadata": {
    "pycharm": {
     "name": "#%%\n"
    }
   },
   "outputs": [],
   "source": [
    "importlib.reload(vision_tools)\n",
    "folder = 'train_games/game5'\n",
    "file = '2.jpg'\n",
    "\n",
    "# Load image\n",
    "f_name = os.path.join(folder, file)\n",
    "im_uint8 = skimage.io.imread(f_name)\n",
    "im = im_uint8.astype('int')\n",
    "\n",
    "# Display the image\n",
    "fig, ax = plt.subplots(1, 1, figsize=(6, 6))\n",
    "ax.imshow(im)\n",
    "plt.title('Original image')\n",
    "plt.show()\n",
    "\n",
    "# Display channels distinctively\n",
    "plt.hist(im[...,0].flatten(), bins=256, color='r', alpha=0.5)\n",
    "plt.hist(im[...,1].flatten(), bins=256, color='g', alpha=0.5)\n",
    "plt.hist(im[...,2].flatten(), bins=256, color='b', alpha=0.5)\n",
    "plt.title('Histogram of the base image (flattened)')\n",
    "plt.show()"
   ]
  },
  {
   "cell_type": "markdown",
   "metadata": {},
   "source": [
    "### Apply a filter to have only one channel"
   ]
  },
  {
   "cell_type": "markdown",
   "metadata": {},
   "source": [
    "The objective is to separate the green of the border of the cards and the dealer from the other colors."
   ]
  },
  {
   "cell_type": "code",
   "execution_count": null,
   "metadata": {},
   "outputs": [],
   "source": [
    "im_green = 2 * im[:, :, 1] - im[:, :, 0] - im[:, :, 2]\n",
    "\n",
    "# Display the image\n",
    "fig, ax = plt.subplots(1, 1, figsize=(6, 6))\n",
    "ax.imshow(im_green, cmap=\"gray\")\n",
    "plt.title('Image filtered')\n",
    "plt.show()"
   ]
  },
  {
   "cell_type": "markdown",
   "metadata": {},
   "source": [
    "### Creation of  a mask to find the dealer"
   ]
  },
  {
   "cell_type": "markdown",
   "metadata": {},
   "source": [
    "First, we apply a high pass filter to conserve only the border of the cards and the dealer. Then we apply a threshold and finally we apply a mask to remove the reflections on the top and the bottom of the image."
   ]
  },
  {
   "cell_type": "code",
   "execution_count": null,
   "metadata": {},
   "outputs": [],
   "source": [
    "hp_filter = np.array([[0, -1, 0], [-1, 5, -1], [0, -1, 0]])\n",
    "im_filtered = convolve2d(im_green, hp_filter, mode='same')\n",
    "\n",
    "fig, ax = plt.subplots(1, 1, figsize=(6, 6))\n",
    "ax.imshow(im_filtered, cmap=\"gray\")\n",
    "plt.title('Image filtered')\n",
    "plt.show()\n",
    "\n",
    "# threshold\n",
    "threshold = 40\n",
    "dealer_mask = (im_filtered > threshold)\n",
    "\n",
    "\n",
    "plt.hist(im_filtered.flatten(), bins=256)\n",
    "plt.axvline(threshold, c='r', label='threshold')\n",
    "plt.title('Histogram of the \"augmented\" green channel (flattened)')\n",
    "plt.legend()\n",
    "plt.xlim((-100,200))\n",
    "plt.show()\n",
    "\n",
    "fig, ax = plt.subplots(1, 1, figsize=(6, 6))\n",
    "ax.imshow(dealer_mask, cmap=\"gray\")\n",
    "plt.title('Generated mask to find the dealer')\n",
    "plt.show()\n",
    "\n",
    "# exclusion mask\n",
    "EXCLUDE_MARGIN_TOP = 100\n",
    "EXCLUDE_MARGIN_BOTTOM = 100\n",
    "im_height, im_width = im.shape[:2]\n",
    "exclusion_mask = np.ones((im_height, im_width))\n",
    "y_excl_bot = im_height - EXCLUDE_MARGIN_BOTTOM\n",
    "y_excl_top = EXCLUDE_MARGIN_TOP\n",
    "exclusion_mask[y_excl_bot:, :] = 0\n",
    "exclusion_mask[:y_excl_top, :] = 0\n",
    "\n",
    "dealer_mask = dealer_mask * exclusion_mask\n",
    "\n",
    "fig, ax = plt.subplots(1, 1, figsize=(6, 6))\n",
    "ax.imshow(dealer_mask, cmap=\"gray\")\n",
    "plt.title('Remove reflections on top and bottom of the mask')\n",
    "plt.show()"
   ]
  },
  {
   "cell_type": "markdown",
   "metadata": {},
   "source": [
    "### Detection of the dealer"
   ]
  },
  {
   "cell_type": "markdown",
   "metadata": {},
   "source": [
    "First we label all objects on the mask, then we find the biggest object (in number of pixels) and we assume that it is the dealer. Then, we compute the center of the dealer coin and find the closest player (represented by the red dots below). We export who is the dealer player and the position of the dealer coin to mask it after when we want to extract the cards."
   ]
  },
  {
   "cell_type": "code",
   "execution_count": null,
   "metadata": {},
   "outputs": [],
   "source": [
    "def extract_rectangle(im_label_mask, retained_item):\n",
    "    \"\"\"\n",
    "    Extract interesting object properties\n",
    "    :param im_label_mask: image labels matrix\n",
    "    :param retained_item: value of label for the object\n",
    "    :param player_pos: list of player positions\n",
    "    :param verbose: verbose mode\n",
    "    :return:\n",
    "    \"\"\"\n",
    "    # coordinates of the points belonging to this item\n",
    "    coords_y, coords_x = np.where(im_label_mask == retained_item)\n",
    "    top = coords_y.min()\n",
    "    right = coords_x.max()\n",
    "    bot = coords_y.max()\n",
    "    left = coords_x.min()\n",
    "\n",
    "    # xy anchor for plt Rectangle patch\n",
    "    anchor = (left, top)\n",
    "    width = right - left\n",
    "    height = bot - top\n",
    "    rect_plt = (anchor, width, height)\n",
    "    return (top, right, bot, left), rect_plt\n",
    "\n",
    "def dist_eucl(a, b):\n",
    "    \"\"\"\n",
    "    Euclidean distance\n",
    "    :param a: point a\n",
    "    :param b: point b\n",
    "    :return: euclidean distance between a and b\n",
    "    \"\"\"\n",
    "    return math.sqrt((a[0] - b[0]) ** 2 + (a[1] - b[1]) ** 2)"
   ]
  },
  {
   "cell_type": "code",
   "execution_count": null,
   "metadata": {},
   "outputs": [],
   "source": [
    "im_label_mask, num_items = label(dealer_mask, return_num=True)\n",
    "\n",
    "print(\"Number of object:\", num_items)\n",
    "\n",
    "size_items = np.unique(im_label_mask, return_counts=True)\n",
    "\n",
    "# remove background\n",
    "size_items = np.delete(size_items, 0, axis=1)\n",
    "\n",
    "# compute dealer index (biggest area of pixels)\n",
    "dealer_index = size_items[0][np.argmax(size_items[1])]\n",
    "\n",
    "# compute rectangle around dealer shape\n",
    "rect = extract_rectangle(im_label_mask, dealer_index)\n",
    "d_rect, plt_rect = rect\n",
    "\n",
    "# compute dealer shape's center\n",
    "c_x = plt_rect[0][0] + plt_rect[1] // 2\n",
    "c_y = plt_rect[0][1] + plt_rect[2] // 2\n",
    "\n",
    "# define player positons on the center of each border\n",
    "im_height, im_width = dealer_mask.shape\n",
    "p_pos = [(im_width // 2, im_height),  # 1\n",
    "         (im_width, im_height // 2),  # 2\n",
    "         (im_width // 2, 0),  # 3\n",
    "         (0, im_height // 2)]  # 4\n",
    "\n",
    "dealer_num = np.argmin([dist_eucl((c_x, c_y), p) for p in p_pos]) + 1\n",
    "print(\"Dealer player is: player\", dealer_num)\n",
    "\n",
    "fig, ax = plt.subplots(1, 1, figsize=(6, 6))\n",
    "ax.imshow((im_label_mask == dealer_index), cmap=\"gray\")\n",
    "plt.title('Dealer find')\n",
    "plt.scatter(c_x, c_y, color = \"red\", linewidths=2)\n",
    "for i in range(4):\n",
    "    plt.scatter(p_pos[i][0], p_pos[i][1], color = \"red\", linewidths=10)\n",
    "plt.fill((d_rect[3],d_rect[1],d_rect[1],d_rect[3]),(d_rect[0],d_rect[0],d_rect[2],d_rect[2]), facecolor='none', edgecolor='red', linewidth=2)\n",
    "plt.xlim((0,im_width))\n",
    "plt.ylim((0,im_height))\n",
    "plt.show()"
   ]
  },
  {
   "cell_type": "markdown",
   "metadata": {},
   "source": [
    "### Creation of  a mask to find the cards"
   ]
  },
  {
   "cell_type": "markdown",
   "metadata": {},
   "source": [
    "We apply a Laplacian of Gaussian filter to only conserve the card's borders and then we apply a threshold on the image. Then we remove the top and bottom part of the mask to avoid reflection on the metal and we remove the dealer coin. Finally, we apply a dilation on the mask to be sure that the border of the cards are continuous."
   ]
  },
  {
   "cell_type": "code",
   "execution_count": null,
   "metadata": {},
   "outputs": [],
   "source": [
    "# filter with a LoG\n",
    "im_filtered = gaussian_laplace(im_green, 0.3) * (-1)\n",
    "\n",
    "# normalize\n",
    "im_filtered = im_filtered / im_filtered.max()\n",
    "im_filtered *= 255\n",
    "\n",
    "# threshold\n",
    "threshold = 30\n",
    "mask = (im_filtered > threshold)\n",
    "\n",
    "fig, (ax1, ax2, ax3) = plt.subplots(1, 3, figsize=(18, 8))\n",
    "ax1.imshow(im_green, cmap='gray')\n",
    "ax1.set_title('image after filtering on green')\n",
    "ax1.axis('off')\n",
    "ax2.imshow(im_filtered, cmap='gray')\n",
    "ax2.set_title('image after LoG')\n",
    "ax2.axis('off')\n",
    "ax3.imshow(mask, cmap='gray')\n",
    "ax3.set_title('image after thresholding')\n",
    "ax3.axis('off')\n",
    "l=(y_excl_top, y_excl_bot)\n",
    "for y in l:\n",
    "    plt.axhline(y, c='r')\n",
    "plt.show()\n",
    "\n",
    "# suppress reflection\n",
    "mask = mask * exclusion_mask\n",
    "\n",
    "# remove dealer coin\n",
    "(top, right, bottom, left) = d_rect\n",
    "MARGIN_DLR = 20\n",
    "mask[top - MARGIN_DLR:bottom + MARGIN_DLR, left - MARGIN_DLR:right + MARGIN_DLR] = 0\n",
    "\n",
    "# dilate the cards borders to fill any gaps\n",
    "mask = binary_dilation(mask, structure=disk(20))\n",
    "\n",
    "fig, ax = plt.subplots(1, 1, figsize=(6, 6))\n",
    "ax.imshow(mask, cmap=\"gray\")\n",
    "plt.title('Mask for cards detection')\n",
    "plt.show()"
   ]
  },
  {
   "cell_type": "markdown",
   "source": [
    "Now that we have some thick borders to work with, we can label them, identify the ones that have the most pixels and compute to which player they belong. We may get some false positives here with the big shadow at the bottom, so the next step is to determine which suggested card is actually the player's card. For this we compute the total area of the suggested card and we associate the biggest one to the player. This way the cards should always be taken over some shadowed areas."
   ],
   "metadata": {
    "collapsed": false,
    "pycharm": {
     "name": "#%% md\n"
    }
   }
  },
  {
   "cell_type": "code",
   "execution_count": null,
   "outputs": [],
   "source": [
    "def extract_obj_prop(im_label_mask, retained_item, player_pos=None, verbose=False):\n",
    "    \"\"\"\n",
    "    Extract interesting object properties\n",
    "    :param im_label_mask: image labels matrix\n",
    "    :param retained_item: value of label for the object\n",
    "    :param player_pos: list of player positions\n",
    "    :param verbose: verbose mode\n",
    "    :return:\n",
    "    \"\"\"\n",
    "    # coordinates of the points belonging to this item\n",
    "    coords_y, coords_x = np.where(im_label_mask == retained_item)\n",
    "    top = coords_y.min()\n",
    "    right = coords_x.max()\n",
    "    bot = coords_y.max()\n",
    "    left = coords_x.min()\n",
    "\n",
    "    # xy anchor for plt Rectangle patch\n",
    "    anchor = (left, top)\n",
    "    width = right - left\n",
    "    height = bot - top\n",
    "    rect = (anchor, width, height)\n",
    "\n",
    "    #  Center point of the item\n",
    "    center_x, center_y = coords_x.mean(), coords_y.mean()\n",
    "\n",
    "    # decide which player it is\n",
    "    player_num = np.argmin([dist_eucl((center_x, center_y), p) for p in player_pos]) + 1\n",
    "    if verbose:\n",
    "        print(f'center of the card : ({center_x:.2f}, {center_y:.2f})')\n",
    "        print(f'anchor : {rect[0]}\\nwidth : {rect[1]}\\nheight : {rect[2]}')\n",
    "        print(f'player : {player_num}')\n",
    "        print('-' * 30)\n",
    "    return rect, player_num"
   ],
   "metadata": {
    "collapsed": false,
    "pycharm": {
     "name": "#%%\n"
    }
   }
  },
  {
   "cell_type": "code",
   "execution_count": null,
   "outputs": [],
   "source": [
    "file_name = os.path.join(folder, file).replace('\\\\', '_').replace('/', '_')\n",
    "im_label_mask, num_items = label(mask, return_num=True)\n",
    "\n",
    "im_height, im_width = mask.shape\n",
    "\n",
    "# define player positons on the center of each border\n",
    "p_pos = [(im_width // 2, im_height),  # 1\n",
    "         (im_width, im_height // 2),  # 2\n",
    "         (im_width // 2, 0),  # 3\n",
    "         (0, im_height // 2)]  # 4\n",
    "\n",
    "# extract each features characteristics\n",
    "rects = []\n",
    "retained_items = []\n",
    "num_pixs = []\n",
    "role = []\n",
    "for i in range(num_items):\n",
    "    pix_num = (im_label_mask == i + 1).sum()\n",
    "    if pix_num > 10000:\n",
    "        # items that are big enough\n",
    "        retained_item = i + 1\n",
    "        rect, p_id = extract_obj_prop(im_label_mask, retained_item, p_pos,\n",
    "                                      verbose=True)\n",
    "        rects.append(rect)\n",
    "        retained_items.append(retained_item)\n",
    "        num_pixs.append(pix_num)\n",
    "        role.append(p_id)\n",
    "\n",
    "ANCHOR = 0\n",
    "WIDTH = 1\n",
    "HEIGHT = 2\n",
    "plt.figure(figsize=(24, 12))\n",
    "for i, (idx, rect) in enumerate(zip(retained_items, rects)):\n",
    "    rect_patch = Rectangle(*rect, fill=False, lw=2, ec='r')\n",
    "    plt.gca().add_patch(rect_patch)\n",
    "    anchor = list(rect[ANCHOR])\n",
    "    anchor[1] -= 50  # offset anchor\n",
    "    plt.annotate(f'Player {role[i]}', anchor, c='r')\n",
    "plt.imshow(im)\n",
    "plt.title(f'{file_name} - with all possible candidates')\n",
    "plt.show()\n",
    "\n",
    "# check that there is only one player with the same number\n",
    "role_copy = role\n",
    "rects_copy = rects\n",
    "for p_id in range(4):\n",
    "    index_with_role = [i for i, v in enumerate(role) if v == p_id + 1]\n",
    "    if len(index_with_role) > 1:\n",
    "        surf = [r[WIDTH] * r[HEIGHT] for r in [rects[i] for i in index_with_role]]\n",
    "        print(f'Surfaces for potential player {p_id}:', surf)\n",
    "        index_to_keep = index_with_role[np.argmax(surf)]\n",
    "        for i in index_with_role[::-1]:\n",
    "            if i != index_to_keep:\n",
    "                del retained_items[i]\n",
    "                del rects_copy[i]\n",
    "                del num_pixs[i]\n",
    "                del role_copy[i]\n",
    "role = role_copy\n",
    "rects = rects_copy\n",
    "\n",
    "# plot the bounding-boxes\n",
    "plt.figure(figsize=(24, 12))\n",
    "for i, (idx, rect) in enumerate(zip(retained_items, rects)):\n",
    "    rect_patch = Rectangle(*rect, fill=False, lw=2, ec='r')\n",
    "    plt.gca().add_patch(rect_patch)\n",
    "    anchor = list(rect[ANCHOR])\n",
    "    anchor[1] -= 50  # offset anchor\n",
    "    plt.annotate(f'Player {role[i]}', anchor, c='r')\n",
    "plt.imshow(im)\n",
    "plt.title(f'{file_name} - with only the real cards')\n",
    "plt.show()"
   ],
   "metadata": {
    "collapsed": false,
    "pycharm": {
     "name": "#%%\n"
    }
   }
  },
  {
   "cell_type": "markdown",
   "source": [
    "Now we extract the cards by slicing the full image with the extracted rectangles. Then applying rotations as necessary. Finally, we use a special filter that lets us segment the cards independantly of their clor (red or black)."
   ],
   "metadata": {
    "collapsed": false,
    "pycharm": {
     "name": "#%% md\n"
    }
   }
  },
  {
   "cell_type": "code",
   "execution_count": null,
   "outputs": [],
   "source": [
    "def convert_to_gray_scale(im):\n",
    "    \"\"\"\n",
    "    Special Gray filter to make red be like black but eliminating the white component\n",
    "    :param im: input image (RGB)\n",
    "    :return: segmentation ready image\n",
    "    \"\"\"\n",
    "    g_img = np.abs(-0.2 * im[:, :, 0] + 0.7 * im[:, :, 1] + 0.1 * im[:, :, 2])\n",
    "    return g_img"
   ],
   "metadata": {
    "collapsed": false,
    "pycharm": {
     "name": "#%%\n"
    }
   }
  },
  {
   "cell_type": "code",
   "execution_count": null,
   "outputs": [],
   "source": [
    "cards = []\n",
    "for i in range(4):\n",
    "    idx_player = role.index(i + 1)\n",
    "    if idx_player is None:\n",
    "        cards.append([])\n",
    "        print(f'Player {i + 1} was not detected')\n",
    "        continue\n",
    "\n",
    "    anchor, r_width, r_height = rects[idx_player]\n",
    "    top = anchor[1]\n",
    "    bottom = anchor[1] + r_height\n",
    "    left = anchor[0]\n",
    "    right = anchor[0] + r_width\n",
    "    card = im[top:bottom, left: right, :]\n",
    "\n",
    "    # apply rotations\n",
    "    if i == 1:  # rotate clock wise 90°\n",
    "        card = np.transpose(card[::-1, ...], (1, 0, 2))\n",
    "    elif i == 2:  # rotate 180°\n",
    "        card = card[::-1, ::-1, :]\n",
    "    elif i == 3:  # rotate -90°\n",
    "        card = np.transpose(card, (1, 0, 2))[::-1, ...]\n",
    "\n",
    "    cards.append(card)\n",
    "    g_card = convert_to_gray_scale(card)\n",
    "    plt.subplot(131)\n",
    "    plt.imshow(card, vmin=0, vmax=255)\n",
    "    plt.subplot(132)\n",
    "    plt.imshow(g_card, cmap='gray', vmin=0, vmax=255)\n",
    "    plt.subplot(133)\n",
    "    plt.imshow(g_card < 50, cmap='gray')\n",
    "    plt.tight_layout()\n",
    "    plt.show()\n"
   ],
   "metadata": {
    "collapsed": false,
    "pycharm": {
     "name": "#%%\n"
    }
   }
  },
  {
   "cell_type": "markdown",
   "metadata": {
    "pycharm": {
     "name": "#%% md\n"
    }
   },
   "source": [
    "### Train a new classifier"
   ]
  },
  {
   "cell_type": "code",
   "execution_count": null,
   "metadata": {
    "pycharm": {
     "name": "#%%\n"
    }
   },
   "outputs": [],
   "source": [
    "importlib.reload(cnn)\n",
    "model, hist, encoders = cnn.train_new_classifier('./results/masks/', verbose=True, save=False, validate=True, validation_game=6)"
   ]
  },
  {
   "cell_type": "code",
   "execution_count": null,
   "metadata": {
    "pycharm": {
     "name": "#%%\n"
    }
   },
   "outputs": [],
   "source": [
    "_, ax = plt.subplots(1,3, figsize=(15,5))\n",
    "ax[0].plot(hist['loss'])\n",
    "ax[0].plot(hist['val_loss'])\n",
    "ax[0].set_title('loss')\n",
    "ax[0].legend(['training', 'validation'])\n",
    "\n",
    "ax[1].plot(hist['sym_acc'])\n",
    "ax[1].plot(hist['val_sym_acc'])\n",
    "ax[1].set_title('symbol accuracy')\n",
    "ax[1].legend(['training', 'validation'])\n",
    "\n",
    "ax[2].plot(hist['suit_acc'])\n",
    "ax[2].plot(hist['val_suit_acc'])\n",
    "ax[2].set_title('Suit accuracy')\n",
    "ax[2].legend(['training', 'validation'])\n",
    "plt.savefig('model_perf_val.png')\n",
    "plt.show()"
   ]
  },
  {
   "cell_type": "markdown",
   "metadata": {
    "pycharm": {
     "name": "#%% md\n"
    }
   },
   "source": [
    "### Load a pretrained classifier\n",
    "To save time, we saved a pre-trained version of the classifier that can be loaded using the cell below"
   ]
  },
  {
   "cell_type": "code",
   "execution_count": null,
   "metadata": {
    "pycharm": {
     "name": "#%%\n"
    }
   },
   "outputs": [],
   "source": [
    "importlib.reload(cnn)\n",
    "model, encoders = cnn.load_trained_model()\n",
    "\n",
    "print(model)\n",
    "print()\n",
    "print(encoders)"
   ]
  },
  {
   "cell_type": "markdown",
   "metadata": {
    "pycharm": {
     "name": "#%% md\n"
    }
   },
   "source": [
    "Predict a round's cards and dealer using the (pre)trained model"
   ]
  },
  {
   "cell_type": "code",
   "execution_count": null,
   "metadata": {
    "pycharm": {
     "name": "#%%\n"
    }
   },
   "outputs": [],
   "source": [
    "images, dealer = vision_tools.card_pipeline('./train_games/game2/','4.jpg', plot=True, verbose=False, save=False)\n",
    "predictions = cnn.predict_round(model, encoders, images)\n",
    "print(f'{predictions} and the dealer is player {dealer[0]}')\n",
    "\n"
   ]
  },
  {
   "cell_type": "markdown",
   "source": [
    "### Compute the number of points\n"
   ],
   "metadata": {
    "collapsed": false
   }
  },
  {
   "cell_type": "code",
   "execution_count": null,
   "outputs": [],
   "source": [
    "def compute_pts(rank_colour, dealer):\n",
    "    pts_standard = [0, 0, 0, 0]\n",
    "    pts_advanced = [0, 0, 0, 0]\n",
    "\n",
    "    for i in range(np.shape(rank_colour)[0]):\n",
    "        curr_round_std = [0, 0, 0, 0]\n",
    "        curr_round_adv = [0, 0, 0, 0]\n",
    "        dealer_suit = rank_colour[i,dealer[i]-1][1]\n",
    "        for j in range(np.shape(rank_colour)[1]):\n",
    "            if rank_colour[i,j][0] == 'J':\n",
    "                curr_round_std[j] = 10\n",
    "                curr_round_adv[j] = 10\n",
    "            elif rank_colour[i,j][0] == 'Q':\n",
    "                curr_round_std[j] = 11\n",
    "                curr_round_adv[j] = 11\n",
    "            elif rank_colour[i,j][0] == 'K':\n",
    "                curr_round_std[j] = 12\n",
    "                curr_round_adv[j] = 12\n",
    "            else:\n",
    "                curr_round_std[j] = int(rank_colour[i,j][0])\n",
    "                curr_round_adv[j] = int(rank_colour[i,j][0])\n",
    "            if rank_colour[i,j][1] != dealer_suit:\n",
    "                curr_round_adv[j] = -1\n",
    "        for j in np.flatnonzero(curr_round_std == np.max(curr_round_std)).tolist():\n",
    "            pts_standard[j] += 1\n",
    "        pts_advanced[np.argmax(curr_round_adv)] += 1\n",
    "    return pts_standard, pts_advanced\n"
   ],
   "metadata": {
    "collapsed": false,
    "pycharm": {
     "name": "#%%\n"
    }
   }
  },
  {
   "cell_type": "code",
   "execution_count": null,
   "outputs": [],
   "source": [
    "a = np.array([\"0D\"]*4*13).reshape((13, 4))\n",
    "a = np.array([[\"1D\", \"QC\", \"5S\", \"JD\"],\n",
    "             [\"5S\", \"JS\", \"9C\", \"KD\"],\n",
    "             [\"1D\", \"3H\", \"7C\", \"3D\"],\n",
    "             [\"1S\", \"JD\", \"4S\", \"4C\"],\n",
    "             [\"0D\", \"6S\", \"3C\", \"2C\"],\n",
    "             [\"8S\", \"9D\", \"3S\", \"KS\"],\n",
    "             [\"4D\", \"7H\", \"7D\", \"6H\"],\n",
    "             [\"0C\", \"KC\", \"9S\", \"8C\"],\n",
    "             [\"5D\", \"5H\", \"1H\", \"7S\"],\n",
    "             [\"QH\", \"QC\", \"6D\", \"9H\"],\n",
    "             [\"4H\", \"2D\", \"JC\", \"QD\"],\n",
    "             [\"6C\", \"8D\", \"2H\", \"KH\"],\n",
    "             [\"1C\", \"5C\", \"0H\", \"2S\"]])\n",
    "\n",
    "dealer = [1, 2, 3, 4, 2, 4, 1, 3, 3, 2, 1, 4, 4]\n",
    "\n",
    "print(a)\n",
    "print(compute_pts(a, dealer))\n",
    "\n"
   ],
   "metadata": {
    "collapsed": false,
    "pycharm": {
     "name": "#%%\n"
    }
   }
  },
  {
   "cell_type": "markdown",
   "metadata": {
    "pycharm": {
     "name": "#%% md\n"
    }
   },
   "source": [
    "# Cell for the test\n",
    "In doubt? Just run the following cell during the test after filling the folder name"
   ]
  },
  {
   "cell_type": "code",
   "execution_count": null,
   "metadata": {
    "pycharm": {
     "name": "#%%\n",
     "is_executing": true
    }
   },
   "outputs": [],
   "source": [
    "%%time\n",
    "import cnn\n",
    "import vision_tools\n",
    "import utils\n",
    "import numpy as np\n",
    "from tqdm import tqdm\n",
    "import importlib\n",
    "importlib.reload(cnn)\n",
    "importlib.reload(vision_tools)\n",
    "\n",
    "folder = 'train_games/game7' #  Fill this\n",
    "predictions = []\n",
    "dealers = []\n",
    "# model, encoders = cnn.load_trained_model()\n",
    "model, encoders = cnn.load_trained_model(cuda=False)\n",
    "\n",
    "for i in tqdm(range(1,14)):\n",
    "    file = f'{i}.jpg'\n",
    "    im, cards, dealer = vision_tools.card_pipeline(folder, file, verbose=False, plot=False, save=False, show=False)\n",
    "    dealers.append(dealer[0])\n",
    "    round_predictions = cnn.predict_round(model, encoders, cards[0])\n",
    "    predictions.append(round_predictions)\n",
    "    vision_tools.plot_bbox(im, cards[1], round_predictions, dealer[1], file,\n",
    "                           save=True, show=False)\n",
    "\n",
    "predictions = np.array(predictions)\n",
    "dealers = np.array(dealers)\n",
    "standard_points, advanced_points = vision_tools.compute_pts(predictions, dealers)\n",
    "utils.print_results(predictions, dealers, standard_points, advanced_points)"
   ]
  },
  {
   "cell_type": "code",
   "execution_count": null,
   "metadata": {
    "pycharm": {
     "name": "#%%\n"
    }
   },
   "outputs": [],
   "source": []
  }
 ],
 "metadata": {
  "kernelspec": {
   "name": "iapr",
   "language": "python",
   "display_name": "Python3 (iapr)"
  },
  "language_info": {
   "codemirror_mode": {
    "name": "ipython",
    "version": 3
   },
   "file_extension": ".py",
   "mimetype": "text/x-python",
   "name": "python",
   "nbconvert_exporter": "python",
   "pygments_lexer": "ipython3",
   "version": "3.8.5"
  }
 },
 "nbformat": 4,
 "nbformat_minor": 4
}