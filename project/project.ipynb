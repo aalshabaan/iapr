{
 "cells": [
  {
   "cell_type": "markdown",
   "metadata": {},
   "source": [
    "# [IAPR][iapr]: Project\n",
    "\n",
    "\n",
    "**Group ID:** 02\n",
    "\n",
    "**Author 1 (sciper):** Basile Spaenlehauer (272570)  \n",
    "**Author 2 (sciper):** Victor Herrmann (284552)  \n",
    "**Author 3 (sciper):** Abed Alrahman Shabaan (237731)  \n",
    "\n",
    "**Release date:** 07.05.2021  \n",
    "**Due date:** 03.06.2021 (23h59) \n",
    "\n",
    "\n",
    "## Important notes\n",
    "\n",
    "The lab assignments are designed to teach practical implementation of the topics presented during class as well as preparation for the final project, which is a practical project which ties together the topics of the course. \n",
    "\n",
    "As such, in the lab assignments/final project, unless otherwise specified, you may, if you choose, use external functions from image processing/ML libraries like opencv and sklearn as long as there is sufficient explanation in the lab report. For example, you do not need to implement your own edge detector, etc.\n",
    "\n",
    "**! Before handling back the notebook !** rerun the notebook from scratch `Kernel` > `Restart & Run All`\n",
    "\n",
    "\n",
    "[iapr]: https://github.com/LTS5/iapr"
   ]
  },
  {
   "cell_type": "markdown",
   "metadata": {},
   "source": [
    "---\n",
    "## 0. Introduction\n",
    "\n",
    "An anonymous researcher that we will name Lann Yecun is convinced that the MNIST dataset still has great potential. He decides to create a playing card game based on MNIST digits and different figures. The game uses a standard 52 card deck which is composed of four French suits/colours: clubs (&#9827;), diamonds (&#9830;), hearts (&#9829;) and spades (&#9824;). Each suit includes 10 digit cards (from 0 to 9) and 3 figures (Jack-J, Queen-Q, and King-K). Here is an example of the 13 spade cards with their name.\n",
    "\n",
    "\n",
    "<img src=\"media/example_cards.png\">\n",
    "\n",
    "\n",
    "We can find the same arrangement of cards for the clubs, diamonds, and hearts. \n",
    "\n",
    "\n",
    "## 1. Rules\n",
    "\n",
    "\n",
    "### 1.1 Standard\n",
    "\n",
    "The rules are based on the simple battle card game. The goal of the game is to win as many points as possible. Each turn, the 4 players play a card in front of them. As displayed in the example below. The rules are the following:\n",
    "\n",
    "- The cards are ranked in the following order : **0 < 1 < 2 < 3 < 4 < 5 < 6 < 7 < 8 < 9 < J < Q < K**.\n",
    "- The player with the highest-ranked card wins the round and obtains **1 point**. \n",
    "- If the highest-ranked card is the same for multiple players we call it a draw and all winners get **1 points**. \n",
    "- In this configuration, we **do not** take into account the suits. The game only rely on the card ranks. \n",
    "- The game lasts 13 rounds. After the last round, the winner is the player that has the largest number of points. \n",
    "- In the example below Player 1 wins the round with his Queen ( 0 < 8 < J < **Q**).\n",
    "\n",
    "If two or more players have the same number of points they share the victory.\n",
    "\n",
    "### 1.2 Advanced\n",
    "\n",
    "The advanced rules take into account the suits. \n",
    "\n",
    "- At the beginning of **each round** a random player is designated as the **dealer**. The dealer places a green token with the letter *D* next to him (player 1 in the example below).\n",
    "- Only the cards that belong to the same suit as the one of the dealer are considered valid. In the example below, only Player 4 is competing with Player 1 as spade was selected by the dealer (e.i., Player 1). Player 2 and 3 are out for this round. Player 1 wins the round and **1 point** with the Queen ( 0&#9824; < **Q&#9824;**).\n",
    "- There cannot be any draw between the players as they are not any card duplicates.\n",
    "- We use the same system as the standard method to count the points.\n",
    "\n",
    "\n",
    "### 1.3 Notes\n",
    "\n",
    "- The orientation of the card is linked to the position of the player around the table. For instance, to read the card of the 3rd player you will have to rotate it by 180°.\n",
    "- The **digits** always **face** the players around the table. The figures can have random orientations.\n",
    "- Player 1 **always** seats south of the table. The players are **always** ordered counter-clockwise as in the example. \n",
    "- The dealers can change between the rounds and games.\n",
    "- Some cards might apear multiple times per game.\n",
    "\n",
    "<img src=\"media/example_round.jpg\">\n"
   ]
  },
  {
   "cell_type": "markdown",
   "metadata": {},
   "source": [
    "---\n",
    "## 2. Data\n",
    "\n",
    "You will be given the images of 7 games that were played ([download link](https://drive.google.com/file/d/1lsCMEwc00nsBMVrzo0NE1np79dMeShqZ/view?usp=sharing)). The data are composed of:\n",
    "   - 7 folder named after the games (game1 to game7).\n",
    "   - Each game includes 13 ordered images (1st to 13th round).\n",
    "   - Each game includes a csv file with the ground truth of the game. The first row list the players (P1 to P4) as well as the dealer (D). The following rows represent the rounds (1 to 13). We represent the card played with 2 character as $AB$ where $A \\in [0-9, J, Q, K]$ is the rank of the card and $B \\in [C, D, H, S]$ is the suit. For example, QS means \"(Q)ueen of (S)pade\". The dealer is represented by the ID of the player (e.g. P1 -> 1).\n",
    "   \n",
    "You are free to use external datasets such as the original MNIST train set that you used in lab 3."
   ]
  },
  {
   "cell_type": "markdown",
   "metadata": {},
   "source": [
    "---\n",
    "## 3. Your Tasks\n",
    "\n",
    "Your task is to ready yourself for the final evaluation. The day of the exam we will give you a new folder with a new game. ! The digits on the cards might sligthly **differ** from the one of the traning set. When given a new data folder with 13 images your should be able to:\n",
    "\n",
    "**Task 0**\n",
    "   - Plot an overlay for each \"round image\" that shows your detections and classification. You can for example plot bounding boxes around the cards/dealer token and add a text overlay with the name of the classes.\n",
    "\n",
    "**Task 1**\n",
    "   - (a) Predict the **rank** of the card played by each player at each round (Standard rules).\n",
    "   - (b) Predict the **number of points** of each player according to **Standard** rules\n",
    " \n",
    "**Task 2**\n",
    "   - (a) Detect which player is the selected **dealer** for each round.\n",
    "   - (b) Predict the **rank** and the **suit** of the card played by each player at each round (Advanced rules).\n",
    "   - (c) Predict the **number of points** of each player according to **Advanced** rules\n",
    "\n",
    "\n",
    "You will have to upload your code on moodle **the day before** the exam.\n",
    "\n",
    "We will ask you to run your pipeline in realtime and to send us your prediction of task 1 and 2 obtain with the function **print_results**. On our side we will compute the perfomance of your classification algorithm. To evaluate your method we will use the **evaluate_game** function presented below. To understant how the provided functions work please read the documentation of the functions in **utils.py**.\n",
    "\n",
    "**Please make sure your function returns the proper data format to avoid points penalty the day of the exam**. "
   ]
  },
  {
   "cell_type": "markdown",
   "metadata": {},
   "source": [
    "### 3.1 Example Final results\n",
    "\n",
    "Example of output you **should** provide the day of the final exam."
   ]
  },
  {
   "cell_type": "code",
   "execution_count": 7,
   "metadata": {},
   "outputs": [
    {
     "name": "stdout",
     "output_type": "stream",
     "text": [
      "The cards played were:\n",
      "[\n",
      "['0D', '0D', '0D', '0D'], \n",
      "['0D', '0D', '0D', '0D'], \n",
      "['0D', '0D', '0D', '0D'], \n",
      "['0D', '0D', '0D', '0D'], \n",
      "['0D', '0D', '0D', '0D'], \n",
      "['0D', '0D', '0D', '0D'], \n",
      "['0D', '0D', '0D', '0D'], \n",
      "['0D', '0D', '0D', '0D'], \n",
      "['0D', '0D', '0D', '0D'], \n",
      "['0D', '0D', '0D', '0D'], \n",
      "['0D', '0D', '0D', '0D'], \n",
      "['0D', '0D', '0D', '0D'], \n",
      "['0D', '0D', '0D', '0D'], \n",
      "]\n",
      "Players designated as dealer: [1, 1, 1, 1, 1, 1, 1, 1, 1, 1, 1, 1, 1]\n",
      "Players points (standard): [0, 0, 0, 13]\n",
      "Players points (advanced): [0, 0, 8, 7]\n"
     ]
    }
   ],
   "source": [
    "from utils import print_results\n",
    "import numpy as np\n",
    "\n",
    "# Creates dummy predictions (toy exmaple)\n",
    "pred_rank = np.array([\"0D\"]*4*13).reshape((13, 4)) # Everyone played the \"0 of spade\".\n",
    "pred_dealer = [1]*13                # List of players selected as dealer for each round\n",
    "pred_pts_stand = [0,0,0,13]         # Player 4 won 13 points with standard rules.\n",
    "pred_pts_advan = [0,0,8,7]          # Player 3 and 4 won 8 and 7 points with adv, rules respectively.\n",
    "\n",
    "print_results(\n",
    "    rank_colour=pred_rank, \n",
    "    dealer=pred_dealer, \n",
    "    pts_standard=pred_pts_stand,\n",
    "    pts_advanced=pred_pts_advan,\n",
    ")"
   ]
  },
  {
   "cell_type": "markdown",
   "metadata": {},
   "source": [
    "### 3.2 Example Accuracy\n",
    "\n",
    "Example of code you can use to validate the performance of your model. Be careful the day of the exam you will not have access to the ground truth of the predictions."
   ]
  },
  {
   "cell_type": "code",
   "execution_count": 8,
   "metadata": {},
   "outputs": [
    {
     "name": "stdout",
     "output_type": "stream",
     "text": [
      "Your model accuracy is: Standard=0.077, Advanced=0.019\n"
     ]
    }
   ],
   "source": [
    "from utils import evaluate_game\n",
    "import pandas as pd\n",
    "#! You will need pandas libary to run the example. Please install the package using pip or conda commands !\n",
    "\n",
    "# Load ground truth from game 1\n",
    "cgt = pd.read_csv('train_games/game1/game1.csv', index_col=0)\n",
    "cgt_rank = cgt[['P1', 'P2', 'P3', 'P4']].values\n",
    "\n",
    "# Compute accuracy of prediction\n",
    "acc_standard = evaluate_game(pred_rank, cgt_rank, mode_advanced=False)\n",
    "acc_advanced = evaluate_game(pred_rank, cgt_rank, mode_advanced=True)\n",
    "print(\"Your model accuracy is: Standard={:.3f}, Advanced={:.3f}\".format(acc_standard, acc_advanced))"
   ]
  },
  {
   "cell_type": "markdown",
   "metadata": {},
   "source": [
    "## 4. Solution"
   ]
  },
  {
   "cell_type": "code",
   "execution_count": 9,
   "metadata": {},
   "outputs": [],
   "source": [
    "import os\n",
    "import skimage.io\n",
    "import matplotlib.pyplot as plt\n",
    "%matplotlib inline\n",
    "import numpy as np\n",
    "from skimage.filters import median\n",
    "\n",
    "data_base_path = os.path.join('train_games')\n",
    "data_folder = 'game3'\n",
    "\n",
    "# Load image\n",
    "data_path = os.path.join(data_base_path, data_folder)\n",
    "im_uint8 = skimage.io.imread(os.path.join(data_path, '1.jpg'))\n",
    "im = im_uint8.astype('int')"
   ]
  },
  {
   "cell_type": "code",
   "execution_count": 11,
   "metadata": {},
   "outputs": [
    {
     "data": {
      "image/png": "[encoded data removed]",
      "text/plain": [
       "<Figure size 432x288 with 1 Axes>"
      ]
     },
     "metadata": {
      "needs_background": "light"
     },
     "output_type": "display_data"
    },
    {
     "data": {
      "image/png": "[encoded data removed]",
      "text/plain": [
       "<Figure size 432x288 with 1 Axes>"
      ]
     },
     "metadata": {
      "needs_background": "light"
     },
     "output_type": "display_data"
    },
    {
     "data": {
      "image/png": "[encoded data removed]",
      "text/plain": [
       "<Figure size 864x864 with 1 Axes>"
      ]
     },
     "metadata": {
      "needs_background": "light"
     },
     "output_type": "display_data"
    }
   ],
   "source": [
    "threshold = 80\n",
    "\n",
    "def filter_object_border(im):\n",
    "    im_green = 2*im[:,:,1] - im[:,:,0] -im[:,:,2]\n",
    "    mask = im_green >= threshold;\n",
    "    return mask\n",
    "\n",
    "mask = filter_object_border(im)\n",
    "    \n",
    "#fig, ax = plt.subplots(1, 1, figsize=(6, 6))\n",
    "#ax.imshow(im_green, cmap='gray')\n",
    "#plt.show()\n",
    "\n",
    "plt.hist(im.flatten(), bins=256)\n",
    "plt.title('Histogram of the base image (flattened)')\n",
    "plt.show()\n",
    "\n",
    "plt.hist(im_green.flatten(), bins=256)\n",
    "plt.title('Histogram of the \"augmented\" green channel')\n",
    "plt.show()\n",
    "\n",
    "\n",
    "fig, ax = plt.subplots(1, 1, figsize=(12, 12))\n",
    "ax.imshow(mask, cmap='gray')\n",
    "plt.title('Detected green features')\n",
    "plt.show()    "
   ]
  },
  {
   "cell_type": "code",
   "execution_count": 12,
   "metadata": {},
   "outputs": [
    {
     "data": {
      "image/png": "[encoded data removed]",
      "text/plain": [
       "<Figure size 864x864 with 2 Axes>"
      ]
     },
     "metadata": {
      "needs_background": "light"
     },
     "output_type": "display_data"
    }
   ],
   "source": [
    "from skimage.morphology import binary_closing, binary_opening, square, disk\n",
    "\n",
    "fig, ax = plt.subplots(1, 2, figsize=(12, 12))\n",
    "ax[0].imshow(mask, cmap='gray')\n",
    "ax[0].set_title('Detected green features')\n",
    "\n",
    "mask_closed = binary_closing(mask, selem=disk(20))\n",
    "ax[1].imshow(mask_closed, cmap='gray')\n",
    "ax[1].set_title('Detected green features (oppened and closed)')\n",
    "plt.show()"
   ]
  },
  {
   "cell_type": "code",
   "execution_count": 13,
   "metadata": {},
   "outputs": [
    {
     "name": "stdout",
     "output_type": "stream",
     "text": [
      "3456 4608\n"
     ]
    },
    {
     "ename": "NameError",
     "evalue": "name 'center_point' is not defined",
     "output_type": "error",
     "traceback": [
      "\u001b[1;31m---------------------------------------------------------------------------\u001b[0m",
      "\u001b[1;31mNameError\u001b[0m                                 Traceback (most recent call last)",
      "\u001b[1;32m<ipython-input-13-bd2b9c66741d>\u001b[0m in \u001b[0;36m<module>\u001b[1;34m\u001b[0m\n\u001b[0;32m     54\u001b[0m         \u001b[0mplayer_num\u001b[0m \u001b[1;33m=\u001b[0m \u001b[0mnp\u001b[0m\u001b[1;33m.\u001b[0m\u001b[0margmin\u001b[0m\u001b[1;33m(\u001b[0m\u001b[1;33m[\u001b[0m\u001b[0mdist_eucl\u001b[0m\u001b[1;33m(\u001b[0m\u001b[1;33m(\u001b[0m\u001b[0mcenter_x\u001b[0m\u001b[1;33m,\u001b[0m \u001b[0mcenter_y\u001b[0m\u001b[1;33m)\u001b[0m\u001b[1;33m,\u001b[0m \u001b[0mp\u001b[0m\u001b[1;33m)\u001b[0m \u001b[1;32mfor\u001b[0m \u001b[0mp\u001b[0m \u001b[1;32min\u001b[0m \u001b[0mplayer_pos\u001b[0m\u001b[1;33m]\u001b[0m\u001b[1;33m)\u001b[0m \u001b[1;33m+\u001b[0m \u001b[1;36m1\u001b[0m\u001b[1;33m\u001b[0m\u001b[1;33m\u001b[0m\u001b[0m\n\u001b[0;32m     55\u001b[0m         \u001b[0mrole\u001b[0m\u001b[1;33m.\u001b[0m\u001b[0mappend\u001b[0m\u001b[1;33m(\u001b[0m\u001b[0mplayer_num\u001b[0m\u001b[1;33m)\u001b[0m\u001b[1;33m\u001b[0m\u001b[1;33m\u001b[0m\u001b[0m\n\u001b[1;32m---> 56\u001b[1;33m         \u001b[0mprint\u001b[0m\u001b[1;33m(\u001b[0m\u001b[0mi\u001b[0m\u001b[1;33m+\u001b[0m\u001b[1;36m1\u001b[0m\u001b[1;33m,\u001b[0m \u001b[0mpix_num\u001b[0m\u001b[1;33m,\u001b[0m \u001b[0mcenter_point\u001b[0m\u001b[1;33m,\u001b[0m \u001b[0mrect\u001b[0m\u001b[1;33m,\u001b[0m \u001b[0mplayer_num\u001b[0m\u001b[1;33m)\u001b[0m\u001b[1;33m\u001b[0m\u001b[1;33m\u001b[0m\u001b[0m\n\u001b[0m\u001b[0;32m     57\u001b[0m \u001b[1;33m\u001b[0m\u001b[0m\n\u001b[0;32m     58\u001b[0m \u001b[1;31m# dealer is the larges number of pixels\u001b[0m\u001b[1;33m\u001b[0m\u001b[1;33m\u001b[0m\u001b[1;33m\u001b[0m\u001b[0m\n",
      "\u001b[1;31mNameError\u001b[0m: name 'center_point' is not defined"
     ]
    }
   ],
   "source": [
    "# Idea : disciminate the Dealer from the cards by using the number of pixels \n",
    "# the dealer will have a larger number of pixels than the other cards\n",
    "\n",
    "# find the center of the rectangles by identifying them with region growing\n",
    "\n",
    "from skimage.measure import label\n",
    "from matplotlib.patches import Rectangle\n",
    "import math\n",
    "\n",
    "def dist_eucl(a, b):\n",
    "    return math.sqrt((a[0]-b[0])**2+(a[1]-b[1])**2)\n",
    "    \n",
    "\n",
    "items_labels, num_items = label(mask_closed, return_num=True)\n",
    "\n",
    "im_height, im_width = mask.shape\n",
    "print(im_width, im_height)\n",
    "player_pos = [(im_width//2, im_height),\n",
    "             (im_width, im_height//2),\n",
    "             (im_width//2, 0),\n",
    "             (0, im_height//2)]\n",
    "\n",
    "c_points_x = []\n",
    "c_points_y = []\n",
    "rects = []\n",
    "retained_items = []\n",
    "items = []\n",
    "num_pixs = []\n",
    "role = []\n",
    "for i in range(num_items):\n",
    "    pix_num = (items_labels==i+1).sum()\n",
    "    if pix_num > 10000:\n",
    "        # items that are big enough\n",
    "        retained_items.append(i+1)\n",
    "        num_pixs.append(pix_num)\n",
    "        # coordinates of the points belonging to this item\n",
    "        coords_item = np.where(items_labels==i+1)\n",
    "        top = coords_item[0].min()\n",
    "        right = coords_item[1].max()\n",
    "        bot = coords_item[0].max()\n",
    "        left = coords_item[1].min()\n",
    "        # xy anchor for plt Rectangle patch \n",
    "        anchor = (left, top)\n",
    "        width = right - left\n",
    "        height = bot - top\n",
    "        rect = (anchor, width, height)\n",
    "        rects.append(rect)\n",
    "        #  Center point of the item\n",
    "        center_y, center_x = [a.mean() for a in coords_item]  # y, x\n",
    "        c_points_x.append(center_x)\n",
    "        c_points_y.append(center_y)\n",
    "        # decide which player it is \n",
    "        player_num = np.argmin([(center_x-p[0])**2+(center_y-p[1])**2 for p in player_pos]) + 1\n",
    "        player_num = np.argmin([dist_eucl((center_x, center_y), p) for p in player_pos]) + 1\n",
    "        role.append(player_num)\n",
    "        print(i+1, pix_num, center_point, rect, player_num)\n",
    "\n",
    "# dealer is the larges number of pixels\n",
    "print(num_pixs)\n",
    "dealer_index = np.argmax(num_pixs)\n",
    "role[dealer_index] = 'D'\n",
    "print(dealer_index)\n",
    "\n",
    "# find other part of D\n",
    "dealer_x = c_points_x[dealer_index]\n",
    "dealer_y = c_points_y[dealer_index]\n",
    "dist_to_D = [dist_eucl((a_x, a_y), (dealer_x, dealer_y)) if i != dealer_index else im_height for i, (a_x, a_y) in enumerate(zip(c_points_x, c_points_y)) ]\n",
    "print(dist_to_D)\n",
    "small_d_index = np.argmin(dist_to_D)\n",
    "role[small_d_index] = 'd'\n",
    "\n",
    "[print(a, b) for a, b in zip(retained_items, role)]\n",
    "\n",
    "plt.figure(figsize=(12,12))\n",
    "plt.scatter(c_points_x, c_points_y)\n",
    "for i, (idx, rect) in enumerate(zip(retained_items, rects)):\n",
    "    rect_patch = Rectangle(*rect, fill=False, lw=2, ec='r')\n",
    "    plt.gca().add_patch(rect_patch)\n",
    "    plt.annotate(f'Player {role[i]}', rect[0], c='r')\n",
    "# plt.imshow(~mask, cmap='gray')\n",
    "plt.imshow(im, cmap='gray')\n",
    "# plt.savefig('result.jpg')\n",
    "plt.show()\n",
    "\n",
    "# plt.figure(figsize=(24,24))\n",
    "# plt.imshow(items_labels!=6, cmap='gray')\n",
    "# plt.title('Detected green features')\n",
    "# plt.show()\n",
    "print(num_items)\n",
    "\n",
    "for i in range(num_items):\n",
    "    pix_num = (items_labels==i+1).sum()\n",
    "    if pix_num > 10000:\n",
    "        plt.figure(figsize=(12,12))\n",
    "        plt.imshow(items_labels!=i+1, cmap='gray')\n",
    "        plt.title(f'Item {i+1}')\n",
    "        plt.show()\n",
    "\n"
   ]
  },
  {
   "cell_type": "code",
   "execution_count": null,
   "metadata": {},
   "outputs": [],
   "source": [
    "np.where(items_labels==6)\n"
   ]
  },
  {
   "cell_type": "code",
   "execution_count": 31,
   "metadata": {},
   "outputs": [],
   "source": [
    "def compute_pts(rank_colour, dealer):\n",
    "    pts_standard = [0, 0, 0, 0]\n",
    "    pts_advanced = [0, 0, 0, 0]\n",
    "    \n",
    "    for i in range(np.shape(rank_colour)[0]):\n",
    "        curr_round_std = [0, 0, 0, 0]\n",
    "        curr_round_adv = [0, 0, 0, 0]\n",
    "        dealer_suit = rank_colour[i,dealer[i]-1][1]\n",
    "        for j in range(np.shape(rank_colour)[1]):\n",
    "            if rank_colour[i,j][0] == 'J':\n",
    "                curr_round_std[j] = 10\n",
    "                curr_round_adv[j] = 10\n",
    "            elif rank_colour[i,j][0] == 'Q':\n",
    "                curr_round_std[j] = 11\n",
    "                curr_round_adv[j] = 11\n",
    "            elif rank_colour[i,j][0] == 'K':\n",
    "                curr_round_std[j] = 12\n",
    "                curr_round_adv[j] = 12\n",
    "            else:\n",
    "                curr_round_std[j] = int(rank_colour[i,j][0])\n",
    "                curr_round_adv[j] = int(rank_colour[i,j][0])\n",
    "            if rank_colour[i,j][1] != dealer_suit:\n",
    "                curr_round_adv[j] = -1\n",
    "        for j in np.flatnonzero(curr_round_std == np.max(curr_round_std)).tolist():\n",
    "            pts_standard[j] += 1\n",
    "        pts_advanced[np.argmax(curr_round_adv)] += 1\n",
    "    return pts_standard, pts_advanced\n"
   ]
  },
  {
   "cell_type": "code",
   "execution_count": 32,
   "metadata": {},
   "outputs": [
    {
     "name": "stdout",
     "output_type": "stream",
     "text": [
      "[['1D' 'QC' '5S' 'JD']\n",
      " ['5S' 'JS' '9C' 'KD']\n",
      " ['1D' '3H' '7C' '3D']\n",
      " ['1S' 'JD' '4S' '4C']\n",
      " ['0D' '6S' '3C' '2C']\n",
      " ['8S' '9D' '3S' 'KS']\n",
      " ['4D' '7H' '7D' '6H']\n",
      " ['0C' 'KC' '9S' '8C']\n",
      " ['5D' '5H' '1H' '7S']\n",
      " ['QH' 'QC' '6D' '9H']\n",
      " ['4H' '2D' 'JC' 'QD']\n",
      " ['6C' '8D' '2H' 'KH']\n",
      " ['1C' '5C' '0H' '2S']]\n",
      "([1, 7, 2, 5], [1, 4, 3, 5])\n"
     ]
    }
   ],
   "source": [
    "a = np.array([\"0D\"]*4*13).reshape((13, 4))\n",
    "a = np.array([[\"1D\", \"QC\", \"5S\", \"JD\"],\n",
    "             [\"5S\", \"JS\", \"9C\", \"KD\"],\n",
    "             [\"1D\", \"3H\", \"7C\", \"3D\"],\n",
    "             [\"1S\", \"JD\", \"4S\", \"4C\"],\n",
    "             [\"0D\", \"6S\", \"3C\", \"2C\"],\n",
    "             [\"8S\", \"9D\", \"3S\", \"KS\"],\n",
    "             [\"4D\", \"7H\", \"7D\", \"6H\"],\n",
    "             [\"0C\", \"KC\", \"9S\", \"8C\"],\n",
    "             [\"5D\", \"5H\", \"1H\", \"7S\"],\n",
    "             [\"QH\", \"QC\", \"6D\", \"9H\"],\n",
    "             [\"4H\", \"2D\", \"JC\", \"QD\"],\n",
    "             [\"6C\", \"8D\", \"2H\", \"KH\"],\n",
    "             [\"1C\", \"5C\", \"0H\", \"2S\"]])\n",
    "\n",
    "dealer = [1, 2, 3, 4, 2, 4, 1, 3, 3, 2, 1, 4, 4]\n",
    "\n",
    "print(a)\n",
    "print(compute_pts(a, dealer))"
   ]
  }
 ],
 "metadata": {
  "kernelspec": {
   "display_name": "Python 3",
   "language": "python",
   "name": "python3"
  },
  "language_info": {
   "codemirror_mode": {
    "name": "ipython",
    "version": 3
   },
   "file_extension": ".py",
   "mimetype": "text/x-python",
   "name": "python",
   "nbconvert_exporter": "python",
   "pygments_lexer": "ipython3",
   "version": "3.8.5"
  }
 },
 "nbformat": 4,
 "nbformat_minor": 4
}
